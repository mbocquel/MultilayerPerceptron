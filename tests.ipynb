{
 "cells": [
  {
   "cell_type": "code",
   "execution_count": 26,
   "id": "af153024",
   "metadata": {},
   "outputs": [],
   "source": [
    "import matplotlib.pyplot as plt\n",
    "import numpy as np\n",
    "from MySequencial import MySequencial\n",
    "from DenseLayer import DenseLayer\n",
    "import pandas as pd\n",
    "from ActivationFunctions import sigmoid, relu, linear, softmax, relu_deriv, softmax_deriv, sigmoid_deriv\n",
    "from LossFunctions import binaryCrossentropyLoss\n"
   ]
  },
  {
   "cell_type": "code",
   "execution_count": 34,
   "id": "d2cae8bd",
   "metadata": {},
   "outputs": [
    {
     "name": "stdout",
     "output_type": "stream",
     "text": [
      "2\n",
      "1\n"
     ]
    }
   ],
   "source": [
    "layers = [1, 2, 3, 4]\n",
    "for i in reversed(range(1, len(layers)-1)):\n",
    "    print(i)"
   ]
  },
  {
   "cell_type": "code",
   "execution_count": 2,
   "id": "332db31a",
   "metadata": {},
   "outputs": [],
   "source": [
    "X_tstn = np.array([[-0.47,  0.42],\n",
    "       [-0.47,  3.16],\n",
    "        [-0.5,  3.0]])\n",
    "\n",
    "W1_tmp = np.array( [[-8.93,  0.29, 12.9 ], [-0.1,  -7.32, 10.81]] )\n",
    "b1_tmp = np.array( [-9.82, -9.28,  0.96] )\n",
    "W2_tmp = np.array( [[-31.18, 0.2], [-27.59, -0.2], [-32.56, 0.2]] )\n",
    "b2_tmp = np.array( [15.41] )\n",
    "y_tstn = np.array([1,0,0])\n"
   ]
  },
  {
   "cell_type": "code",
   "execution_count": 3,
   "id": "465dc5ad",
   "metadata": {},
   "outputs": [
    {
     "data": {
      "text/plain": [
       "3"
      ]
     },
     "execution_count": 3,
     "metadata": {},
     "output_type": "execute_result"
    }
   ],
   "source": [
    "X_tstn.shape[0]"
   ]
  },
  {
   "cell_type": "code",
   "execution_count": 4,
   "id": "0dbefbc6",
   "metadata": {},
   "outputs": [],
   "source": [
    "modeltest = MySequencial([\n",
    "    DenseLayer(2, activation=\"linear\"), \n",
    "    DenseLayer(3, activation='sigmoid'),\n",
    "    DenseLayer(2, activation='softmax')\n",
    "])\n"
   ]
  },
  {
   "cell_type": "code",
   "execution_count": 5,
   "id": "73a02fe4",
   "metadata": {},
   "outputs": [
    {
     "name": "stdout",
     "output_type": "stream",
     "text": [
      "----------- Layer 1 -----------\n",
      "Layer Name: Dense 1 (input)\n",
      "Input Layer : True\n",
      "Shape W: (2, 2)\n",
      "Shape b: (1, 2)\n",
      "activation: linear\n",
      "weights_initializer: heUniformWI \n",
      "\n",
      "----------- Layer 2 -----------\n",
      "Layer Name: Dense 2\n",
      "Input Layer : False\n",
      "Shape W: (2, 3)\n",
      "Shape b: (1, 3)\n",
      "activation: sigmoid\n",
      "weights_initializer: heUniformWI \n",
      "\n",
      "----------- Layer 3 -----------\n",
      "Layer Name: Dense 3\n",
      "Input Layer : False\n",
      "Shape W: (3, 2)\n",
      "Shape b: (1, 2)\n",
      "activation: softmax\n",
      "weights_initializer: heUniformWI \n",
      "\n"
     ]
    }
   ],
   "source": [
    "modeltest.summary()"
   ]
  },
  {
   "cell_type": "code",
   "execution_count": 6,
   "id": "d6e7cf46",
   "metadata": {},
   "outputs": [
    {
     "data": {
      "text/plain": [
       "[array([0.2496739, 0.7503261]),\n",
       " array([0.20114685, 0.79885315]),\n",
       " array([0.20075651, 0.79924349])]"
      ]
     },
     "execution_count": 6,
     "metadata": {},
     "output_type": "execute_result"
    }
   ],
   "source": [
    "modeltest.predict(X_tstn)"
   ]
  },
  {
   "cell_type": "code",
   "execution_count": 7,
   "id": "fc669722",
   "metadata": {},
   "outputs": [
    {
     "name": "stdout",
     "output_type": "stream",
     "text": [
      "Dense 3\n",
      "error [[ 0.2496739  -0.2496739 ]\n",
      " [-0.79885315  0.79885315]\n",
      " [-0.79924349  0.79924349]]\n",
      "delta [array([ 0.05866492, -0.05866492]), array([-0.18288695,  0.18288695]), array([-0.18293483,  0.18293483])]\n"
     ]
    }
   ],
   "source": [
    "modeltest.layers[2].setErrorLastLayer(y_tstn)\n"
   ]
  },
  {
   "cell_type": "code",
   "execution_count": 8,
   "id": "4ef558e8",
   "metadata": {},
   "outputs": [],
   "source": [
    "delta_lastLayer = [np.array([ 0.17797117, -0.17797117]),\n",
    "                np.array([-0.10354539,  0.10354539]),\n",
    "                np.array([-0.10120978,  0.10120978])]"
   ]
  },
  {
   "cell_type": "code",
   "execution_count": 9,
   "id": "3756acc9",
   "metadata": {},
   "outputs": [
    {
     "data": {
      "text/plain": [
       "array([[ 1.45991311, -0.95834371, -0.48713683],\n",
       "       [ 0.06551946,  0.13654058,  1.57681532]])"
      ]
     },
     "execution_count": 9,
     "metadata": {},
     "output_type": "execute_result"
    }
   ],
   "source": [
    "W_hiden = modeltest.layers[1].W\n",
    "W_hiden"
   ]
  },
  {
   "cell_type": "code",
   "execution_count": 10,
   "id": "702afc05",
   "metadata": {},
   "outputs": [
    {
     "data": {
      "text/plain": [
       "[array([-0.47,  0.42]), array([-0.47,  3.16]), array([-0.5,  3. ])]"
      ]
     },
     "execution_count": 10,
     "metadata": {},
     "output_type": "execute_result"
    }
   ],
   "source": [
    "input = modeltest.layers[1].input\n",
    "input"
   ]
  },
  {
   "cell_type": "code",
   "execution_count": 11,
   "id": "5d593ec9",
   "metadata": {},
   "outputs": [
    {
     "data": {
      "text/plain": [
       "array([[-0.65864099,  0.50776859,  0.89121674],\n",
       "       [-0.47911767,  0.88188979,  5.21169073],\n",
       "       [-0.53339817,  0.88879361,  4.97401438]])"
      ]
     },
     "execution_count": 11,
     "metadata": {},
     "output_type": "execute_result"
    }
   ],
   "source": [
    "input @ W_hiden"
   ]
  },
  {
   "cell_type": "code",
   "execution_count": 12,
   "id": "cd0934a7",
   "metadata": {},
   "outputs": [
    {
     "data": {
      "text/plain": [
       "0.69988814"
      ]
     },
     "execution_count": 12,
     "metadata": {},
     "output_type": "execute_result"
    }
   ],
   "source": [
    "-0.47 * -0.50005774 + 0.42 *  1.10681191"
   ]
  },
  {
   "cell_type": "code",
   "execution_count": 13,
   "id": "90e67c43",
   "metadata": {},
   "outputs": [
    {
     "data": {
      "text/plain": [
       "array([[ 0.24816187, -0.19485784, -0.36732398],\n",
       "       [-0.14438303,  0.11337022,  0.21371273],\n",
       "       [-0.14112627,  0.110813  ,  0.20889214]])"
      ]
     },
     "execution_count": 13,
     "metadata": {},
     "output_type": "execute_result"
    }
   ],
   "source": [
    "delta_lastLayer @ W_hiden"
   ]
  },
  {
   "cell_type": "code",
   "execution_count": 14,
   "id": "041465c0",
   "metadata": {},
   "outputs": [
    {
     "data": {
      "text/plain": [
       "array([[ 1.45991311, -0.95834371, -0.48713683],\n",
       "       [ 0.06551946,  0.13654058,  1.57681532]])"
      ]
     },
     "execution_count": 14,
     "metadata": {},
     "output_type": "execute_result"
    }
   ],
   "source": [
    "W_hiden"
   ]
  },
  {
   "cell_type": "code",
   "execution_count": 15,
   "id": "e657820b",
   "metadata": {},
   "outputs": [
    {
     "data": {
      "text/plain": [
       "[array([ 0.05866492, -0.05866492]),\n",
       " array([-0.18288695,  0.18288695]),\n",
       " array([-0.18293483,  0.18293483])]"
      ]
     },
     "execution_count": 15,
     "metadata": {},
     "output_type": "execute_result"
    }
   ],
   "source": [
    "Delta_out = modeltest.layers[2].delta\n",
    "Delta_out"
   ]
  },
  {
   "cell_type": "code",
   "execution_count": 16,
   "id": "54f2c554",
   "metadata": {},
   "outputs": [
    {
     "data": {
      "text/plain": [
       "array([[ 0.08180199, -0.06423129, -0.12108158],\n",
       "       [-0.2550164 ,  0.20024005,  0.37746992],\n",
       "       [-0.25508317,  0.20029247,  0.37756874]])"
      ]
     },
     "execution_count": 16,
     "metadata": {},
     "output_type": "execute_result"
    }
   ],
   "source": [
    "Err = Delta_out @ W_hiden\n",
    "Err"
   ]
  },
  {
   "cell_type": "code",
   "execution_count": 17,
   "id": "63397d8a",
   "metadata": {},
   "outputs": [
    {
     "data": {
      "text/plain": [
       "[array([0.34104496, 0.62428323, 0.7091412 ]),\n",
       " array([0.3824605 , 0.70721368, 0.99457712]),\n",
       " array([0.36972467, 0.70864115, 0.99313216])]"
      ]
     },
     "execution_count": 17,
     "metadata": {},
     "output_type": "execute_result"
    }
   ],
   "source": [
    "hidden_out = modeltest.layers[1].output\n",
    "hidden_out"
   ]
  },
  {
   "cell_type": "code",
   "execution_count": 21,
   "id": "246b3ac0",
   "metadata": {},
   "outputs": [
    {
     "data": {
      "text/plain": [
       "[array([1, 1, 1]), array([1, 1, 1]), array([1, 1, 1])]"
      ]
     },
     "execution_count": 21,
     "metadata": {},
     "output_type": "execute_result"
    }
   ],
   "source": [
    "deriv = [relu_deriv(out) for out in hidden_out]\n",
    "deriv"
   ]
  },
  {
   "cell_type": "code",
   "execution_count": 24,
   "id": "26775d2b",
   "metadata": {},
   "outputs": [
    {
     "data": {
      "text/plain": [
       "array([[ 0.08180199, -0.06423129, -0.12108158],\n",
       "       [-0.2550164 ,  0.20024005,  0.        ],\n",
       "       [-0.25508317,  0.20029247,  0.37756874]])"
      ]
     },
     "execution_count": 24,
     "metadata": {},
     "output_type": "execute_result"
    }
   ],
   "source": [
    "deriv[1][2] = 0\n",
    "Err * deriv"
   ]
  },
  {
   "cell_type": "code",
   "execution_count": 19,
   "id": "7231dad5",
   "metadata": {},
   "outputs": [
    {
     "name": "stdout",
     "output_type": "stream",
     "text": [
      "Dense 2\n",
      "error [[ 0.09665574  0.01851708  0.30093466]\n",
      " [-0.11391839 -0.02182422 -0.35468139]\n",
      " [-0.11457789 -0.02195056 -0.35673474]]\n"
     ]
    }
   ],
   "source": [
    "modeltest.layers[1].setError(modeltest.layers[2])\n"
   ]
  },
  {
   "cell_type": "code",
   "execution_count": 23,
   "id": "162a4a21",
   "metadata": {},
   "outputs": [
    {
     "name": "stdout",
     "output_type": "stream",
     "text": [
      "[[-1.98369577e-09]\n",
      " [-2.07181375e+01]\n",
      " [-2.07449450e+01]]\n",
      "[[1]\n",
      " [0]\n",
      " [0]]\n",
      "\n",
      "[[1.98369577e-09]\n",
      " [1.00514153e-09]\n",
      " [9.78554127e-10]]\n"
     ]
    },
    {
     "data": {
      "text/plain": [
       "array([3.96739142e-09])"
      ]
     },
     "execution_count": 23,
     "metadata": {},
     "output_type": "execute_result"
    }
   ],
   "source": [
    "F_wb = modeltest.predict(X_tstn)\n",
    "print(np.log(F_wb))\n",
    "Y_bis = Y.reshape(F_wb.shape)\n",
    "print(Y_bis)\n",
    "print()\n",
    "print(-(Y_bis * np.log(F_wb) + (1 - Y_bis) * np.log(1 - F_wb)))\n",
    "\n",
    "sum(-(Y_bis * np.log(F_wb) + (1 - Y_bis) * np.log(1 - F_wb)))\n",
    "# cost = -(Y * np.log(F_wb) + (1 - Y) * np.log(1 - F_wb))\n",
    "#     cost = cost / m + (lambda_ / (2*m)) * np.sum(w**2)\n",
    "#     return (cost)\n"
   ]
  },
  {
   "cell_type": "code",
   "execution_count": 24,
   "id": "c120bac8",
   "metadata": {},
   "outputs": [],
   "source": [
    "cost = modeltest.cost(X_tstn, Y)"
   ]
  },
  {
   "cell_type": "code",
   "execution_count": 25,
   "id": "8924613f",
   "metadata": {},
   "outputs": [
    {
     "data": {
      "text/plain": [
       "1.3224638061150563e-09"
      ]
     },
     "execution_count": 25,
     "metadata": {},
     "output_type": "execute_result"
    }
   ],
   "source": [
    "cost"
   ]
  },
  {
   "cell_type": "code",
   "execution_count": 26,
   "id": "5178b14b",
   "metadata": {},
   "outputs": [
    {
     "data": {
      "text/plain": [
       "array([[1.98369577e-09],\n",
       "       [1.00514153e-09],\n",
       "       [9.78554127e-10]])"
      ]
     },
     "execution_count": 26,
     "metadata": {},
     "output_type": "execute_result"
    }
   ],
   "source": [
    "binaryCrossentropyLoss(modeltest, X_tstn, Y)"
   ]
  },
  {
   "cell_type": "code",
   "execution_count": 27,
   "id": "c543026f",
   "metadata": {},
   "outputs": [],
   "source": [
    "f = np.array([[9.70292454e-01],\n",
    " [3.28294082e-08],\n",
    " [3.19610272e-08]])\n"
   ]
  },
  {
   "cell_type": "code",
   "execution_count": 28,
   "id": "448e55fb",
   "metadata": {},
   "outputs": [],
   "source": [
    "result = []\n",
    "for i in range(len(Y)):\n",
    "    result.append(-Y[i] * np.log(f[i]) - (1 - Y[i]) * np.log(1 - f[i]))"
   ]
  },
  {
   "cell_type": "code",
   "execution_count": null,
   "id": "1132f6a0",
   "metadata": {},
   "outputs": [],
   "source": []
  },
  {
   "cell_type": "code",
   "execution_count": 31,
   "id": "f4021741",
   "metadata": {},
   "outputs": [],
   "source": [
    "my_predictions = modeltest.predict(X_tstn)"
   ]
  },
  {
   "cell_type": "code",
   "execution_count": 32,
   "id": "edde1505",
   "metadata": {},
   "outputs": [
    {
     "name": "stdout",
     "output_type": "stream",
     "text": [
      "decisions = \n",
      "[[1]\n",
      " [0]\n",
      " [0]]\n"
     ]
    }
   ],
   "source": [
    "yhat = (my_predictions >= 0.5).astype(int)\n",
    "print(f\"decisions = \\n{yhat}\")"
   ]
  },
  {
   "cell_type": "code",
   "execution_count": 33,
   "id": "2b20ce25",
   "metadata": {},
   "outputs": [],
   "source": [
    "df = pd.read_csv(\"data.csv\",header=None)"
   ]
  },
  {
   "cell_type": "code",
   "execution_count": 44,
   "id": "fb63d72a",
   "metadata": {},
   "outputs": [],
   "source": [
    "dfnp = df.to_numpy()"
   ]
  },
  {
   "cell_type": "code",
   "execution_count": 68,
   "id": "6ca0847d",
   "metadata": {},
   "outputs": [
    {
     "data": {
      "text/plain": [
       "array([[842302, 'M', 17.99, 10.38, 122.8, 1001.0, 0.1184, 0.2776, 0.3001,\n",
       "        0.1471, 0.2419, 0.07871, 1.095, 0.9053, 8.589, 153.4, 0.006399,\n",
       "        0.04904, 0.05373, 0.01587, 0.03003, 0.006193, 25.38, 17.33,\n",
       "        184.6, 2019.0, 0.1622, 0.6656, 0.7119, 0.2654, 0.4601, 0.1189],\n",
       "       [842517, 'M', 20.57, 17.77, 132.9, 1326.0, 0.08474, 0.07864,\n",
       "        0.0869, 0.07017, 0.1812, 0.05667, 0.5435, 0.7339, 3.398, 74.08,\n",
       "        0.005225, 0.01308, 0.0186, 0.0134, 0.01389, 0.003532, 24.99,\n",
       "        23.41, 158.8, 1956.0, 0.1238, 0.1866, 0.2416, 0.186, 0.275,\n",
       "        0.08902],\n",
       "       [84300903, 'M', 19.69, 21.25, 130.0, 1203.0, 0.1096, 0.1599,\n",
       "        0.1974, 0.1279, 0.2069, 0.05999, 0.7456, 0.7869, 4.585, 94.03,\n",
       "        0.00615, 0.04006, 0.03832, 0.02058, 0.0225, 0.004571, 23.57,\n",
       "        25.53, 152.5, 1709.0, 0.1444, 0.4245, 0.4504, 0.243, 0.3613,\n",
       "        0.08758],\n",
       "       [84348301, 'M', 11.42, 20.38, 77.58, 386.1, 0.1425, 0.2839,\n",
       "        0.2414, 0.1052, 0.2597, 0.09744, 0.4956, 1.156, 3.445, 27.23,\n",
       "        0.00911, 0.07458, 0.05661, 0.01867, 0.05963, 0.009208, 14.91,\n",
       "        26.5, 98.87, 567.7, 0.2098, 0.8663, 0.6869, 0.2575, 0.6638,\n",
       "        0.173],\n",
       "       [84358402, 'M', 20.29, 14.34, 135.1, 1297.0, 0.1003, 0.1328,\n",
       "        0.198, 0.1043, 0.1809, 0.05883, 0.7572, 0.7813, 5.438, 94.44,\n",
       "        0.01149, 0.02461, 0.05688, 0.01885, 0.01756, 0.005115, 22.54,\n",
       "        16.67, 152.2, 1575.0, 0.1374, 0.205, 0.4, 0.1625, 0.2364,\n",
       "        0.07678],\n",
       "       [843786, 'M', 12.45, 15.7, 82.57, 477.1, 0.1278, 0.17, 0.1578,\n",
       "        0.08089, 0.2087, 0.07613, 0.3345, 0.8902, 2.217, 27.19, 0.00751,\n",
       "        0.03345, 0.03672, 0.01137, 0.02165, 0.005082, 15.47, 23.75,\n",
       "        103.4, 741.6, 0.1791, 0.5249, 0.5355, 0.1741, 0.3985, 0.1244],\n",
       "       [844359, 'M', 18.25, 19.98, 119.6, 1040.0, 0.09463, 0.109, 0.1127,\n",
       "        0.074, 0.1794, 0.05742, 0.4467, 0.7732, 3.18, 53.91, 0.004314,\n",
       "        0.01382, 0.02254, 0.01039, 0.01369, 0.002179, 22.88, 27.66,\n",
       "        153.2, 1606.0, 0.1442, 0.2576, 0.3784, 0.1932, 0.3063, 0.08368],\n",
       "       [84458202, 'M', 13.71, 20.83, 90.2, 577.9, 0.1189, 0.1645,\n",
       "        0.09366, 0.05985, 0.2196, 0.07451, 0.5835, 1.377, 3.856, 50.96,\n",
       "        0.008805, 0.03029, 0.02488, 0.01448, 0.01486, 0.005412, 17.06,\n",
       "        28.14, 110.6, 897.0, 0.1654, 0.3682, 0.2678, 0.1556, 0.3196,\n",
       "        0.1151],\n",
       "       [844981, 'M', 13.0, 21.82, 87.5, 519.8, 0.1273, 0.1932, 0.1859,\n",
       "        0.09353, 0.235, 0.07389, 0.3063, 1.002, 2.406, 24.32, 0.005731,\n",
       "        0.03502, 0.03553, 0.01226, 0.02143, 0.003749, 15.49, 30.73,\n",
       "        106.2, 739.3, 0.1703, 0.5401, 0.539, 0.206, 0.4378, 0.1072],\n",
       "       [84501001, 'M', 12.46, 24.04, 83.97, 475.9, 0.1186, 0.2396,\n",
       "        0.2273, 0.08543, 0.203, 0.08243, 0.2976, 1.599, 2.039, 23.94,\n",
       "        0.007149, 0.07217, 0.07743, 0.01432, 0.01789, 0.01008, 15.09,\n",
       "        40.68, 97.65, 711.4, 0.1853, 1.058, 1.105, 0.221, 0.4366, 0.2075],\n",
       "       [845636, 'M', 16.02, 23.24, 102.7, 797.8, 0.08206, 0.06669,\n",
       "        0.03299, 0.03323, 0.1528, 0.05697, 0.3795, 1.187, 2.466, 40.51,\n",
       "        0.004029, 0.009269, 0.01101, 0.007591, 0.0146, 0.003042, 19.19,\n",
       "        33.88, 123.8, 1150.0, 0.1181, 0.1551, 0.1459, 0.09975, 0.2948,\n",
       "        0.08452],\n",
       "       [84610002, 'M', 15.78, 17.89, 103.6, 781.0, 0.0971, 0.1292,\n",
       "        0.09954, 0.06606, 0.1842, 0.06082, 0.5058, 0.9849, 3.564, 54.16,\n",
       "        0.005771, 0.04061, 0.02791, 0.01282, 0.02008, 0.004144, 20.42,\n",
       "        27.28, 136.5, 1299.0, 0.1396, 0.5609, 0.3965, 0.181, 0.3792,\n",
       "        0.1048],\n",
       "       [846226, 'M', 19.17, 24.8, 132.4, 1123.0, 0.0974, 0.2458, 0.2065,\n",
       "        0.1118, 0.2397, 0.078, 0.9555, 3.568, 11.07, 116.2, 0.003139,\n",
       "        0.08297, 0.0889, 0.0409, 0.04484, 0.01284, 20.96, 29.94, 151.7,\n",
       "        1332.0, 0.1037, 0.3903, 0.3639, 0.1767, 0.3176, 0.1023],\n",
       "       [846381, 'M', 15.85, 23.95, 103.7, 782.7, 0.08401, 0.1002,\n",
       "        0.09938, 0.05364, 0.1847, 0.05338, 0.4033, 1.078, 2.903, 36.58,\n",
       "        0.009769, 0.03126, 0.05051, 0.01992, 0.02981, 0.003002, 16.84,\n",
       "        27.66, 112.0, 876.5, 0.1131, 0.1924, 0.2322, 0.1119, 0.2809,\n",
       "        0.06287],\n",
       "       [84667401, 'M', 13.73, 22.61, 93.6, 578.3, 0.1131, 0.2293, 0.2128,\n",
       "        0.08025, 0.2069, 0.07682, 0.2121, 1.169, 2.061, 19.21, 0.006429,\n",
       "        0.05936, 0.05501, 0.01628, 0.01961, 0.008093, 15.03, 32.01,\n",
       "        108.8, 697.7, 0.1651, 0.7725, 0.6943, 0.2208, 0.3596, 0.1431],\n",
       "       [84799002, 'M', 14.54, 27.54, 96.73, 658.8, 0.1139, 0.1595,\n",
       "        0.1639, 0.07364, 0.2303, 0.07077, 0.37, 1.033, 2.879, 32.55,\n",
       "        0.005607, 0.0424, 0.04741, 0.0109, 0.01857, 0.005466, 17.46,\n",
       "        37.13, 124.1, 943.2, 0.1678, 0.6577, 0.7026, 0.1712, 0.4218,\n",
       "        0.1341]], dtype=object)"
      ]
     },
     "execution_count": 68,
     "metadata": {},
     "output_type": "execute_result"
    }
   ],
   "source": [
    "dfnp[0:16]"
   ]
  },
  {
   "cell_type": "code",
   "execution_count": 73,
   "id": "b8ce43e8",
   "metadata": {},
   "outputs": [
    {
     "data": {
      "text/plain": [
       "[array([842302, 842517, 84300903], dtype=object),\n",
       " array([84348301, 84358402, 843786], dtype=object),\n",
       " array([844359, 84458202, 844981], dtype=object),\n",
       " array([84501001, 845636, 84610002], dtype=object),\n",
       " array([846226, 846381, 84667401], dtype=object),\n",
       " array([84799002, 848406, 84862001], dtype=object),\n",
       " array([849014, 8510426, 8510653], dtype=object),\n",
       " array([8510824, 8511133, 851509], dtype=object),\n",
       " array([852552, 852631, 852763], dtype=object),\n",
       " array([852781, 852973, 853201], dtype=object),\n",
       " array([853401, 853612, 85382601], dtype=object),\n",
       " array([854002, 854039, 854253], dtype=object),\n",
       " array([854268, 854941, 855133], dtype=object),\n",
       " array([855138, 855167, 855563], dtype=object),\n",
       " array([855625, 856106, 85638502], dtype=object),\n",
       " array([857010, 85713702, 85715], dtype=object),\n",
       " array([857155, 857156, 857343], dtype=object),\n",
       " array([857373, 857374, 857392], dtype=object),\n",
       " array([857438, 85759902, 857637], dtype=object),\n",
       " array([857793, 857810, 858477], dtype=object),\n",
       " array([858970, 858981, 858986], dtype=object),\n",
       " array([859196, 85922302, 859283], dtype=object),\n",
       " array([859464, 859465, 859471], dtype=object),\n",
       " array([859487, 859575, 859711], dtype=object),\n",
       " array([859717, 859983, 8610175], dtype=object),\n",
       " array([8610404, 8610629, 8610637], dtype=object),\n",
       " array([8610862, 8610908, 861103], dtype=object),\n",
       " array([8611161, 8611555, 8611792], dtype=object),\n",
       " array([8612080, 8612399, 86135501], dtype=object),\n",
       " array([86135502, 861597, 861598], dtype=object),\n",
       " array([861648, 861799, 861853], dtype=object),\n",
       " array([862009, 862028, 86208], dtype=object),\n",
       " array([86211, 862261, 862485], dtype=object),\n",
       " array([862548, 862717, 862722], dtype=object),\n",
       " array([862965, 862980, 862989], dtype=object),\n",
       " array([863030, 863031, 863270], dtype=object),\n",
       " array([86355, 864018, 864033], dtype=object),\n",
       " array([86408, 86409, 864292], dtype=object),\n",
       " array([864496, 864685, 864726], dtype=object),\n",
       " array([864729, 864877, 865128], dtype=object),\n",
       " array([865137, 86517, 865423], dtype=object),\n",
       " array([865432, 865468, 86561], dtype=object),\n",
       " array([866083, 866203, 866458], dtype=object),\n",
       " array([866674, 866714, 8670], dtype=object),\n",
       " array([86730502, 867387, 867739], dtype=object),\n",
       " array([868202, 868223, 868682], dtype=object),\n",
       " array([868826, 868871, 868999], dtype=object),\n",
       " array([869104, 869218, 869224], dtype=object),\n",
       " array([869254, 869476, 869691], dtype=object),\n",
       " array([86973701, 86973702, 869931], dtype=object),\n",
       " array([871001501, 871001502, 8710441], dtype=object),\n",
       " array([87106, 8711002, 8711003], dtype=object),\n",
       " array([8711202, 8711216, 871122], dtype=object),\n",
       " array([871149, 8711561, 8711803], dtype=object),\n",
       " array([871201, 8712064, 8712289], dtype=object),\n",
       " array([8712291, 87127, 8712729], dtype=object),\n",
       " array([8712766, 8712853, 87139402], dtype=object),\n",
       " array([87163, 87164, 871641], dtype=object),\n",
       " array([871642, 872113, 872608], dtype=object),\n",
       " array([87281702, 873357, 873586], dtype=object),\n",
       " array([873592, 873593, 873701], dtype=object),\n",
       " array([873843, 873885, 874158], dtype=object),\n",
       " array([874217, 874373, 874662], dtype=object),\n",
       " array([874839, 874858, 875093], dtype=object),\n",
       " array([875099, 875263, 87556202], dtype=object),\n",
       " array([875878, 875938, 877159], dtype=object),\n",
       " array([877486, 877500, 877501], dtype=object),\n",
       " array([877989, 878796, 87880], dtype=object),\n",
       " array([87930, 879523, 879804], dtype=object),\n",
       " array([879830, 8810158, 8810436], dtype=object),\n",
       " array([881046502, 8810528, 8810703], dtype=object),\n",
       " array([881094802, 8810955, 8810987], dtype=object),\n",
       " array([8811523, 8811779, 8811842], dtype=object),\n",
       " array([88119002, 8812816, 8812818], dtype=object),\n",
       " array([8812844, 8812877, 8813129], dtype=object),\n",
       " array([88143502, 88147101, 88147102], dtype=object),\n",
       " array([88147202, 881861, 881972], dtype=object),\n",
       " array([88199202, 88203002, 88206102], dtype=object),\n",
       " array([882488, 88249602, 88299702], dtype=object),\n",
       " array([883263, 883270, 88330202], dtype=object),\n",
       " array([88350402, 883539, 883852], dtype=object),\n",
       " array([88411702, 884180, 884437], dtype=object),\n",
       " array([884448, 884626, 88466802], dtype=object),\n",
       " array([884689, 884948, 88518501], dtype=object),\n",
       " array([885429, 8860702, 886226], dtype=object),\n",
       " array([886452, 88649001, 886776], dtype=object),\n",
       " array([887181, 88725602, 887549], dtype=object),\n",
       " array([888264, 888570, 889403], dtype=object),\n",
       " array([889719, 88995002, 8910251], dtype=object),\n",
       " array([8910499, 8910506, 8910720], dtype=object),\n",
       " array([8910721, 8910748, 8910988], dtype=object),\n",
       " array([8910996, 8911163, 8911164], dtype=object),\n",
       " array([8911230, 8911670, 8911800], dtype=object),\n",
       " array([8911834, 8912049, 8912055], dtype=object),\n",
       " array([89122, 8912280, 8912284], dtype=object),\n",
       " array([8912521, 8912909, 8913], dtype=object),\n",
       " array([8913049, 89143601, 89143602], dtype=object),\n",
       " array([8915, 891670, 891703], dtype=object),\n",
       " array([891716, 891923, 891936], dtype=object),\n",
       " array([892189, 892214, 892399], dtype=object),\n",
       " array([892438, 892604, 89263202], dtype=object),\n",
       " array([892657, 89296, 893061], dtype=object),\n",
       " array([89344, 89346, 893526], dtype=object),\n",
       " array([893548, 893783, 89382601], dtype=object),\n",
       " array([89382602, 893988, 894047], dtype=object),\n",
       " array([894089, 894090, 894326], dtype=object),\n",
       " array([894329, 894335, 894604], dtype=object),\n",
       " array([894618, 894855, 895100], dtype=object),\n",
       " array([89511501, 89511502, 89524], dtype=object),\n",
       " array([895299, 8953902, 895633], dtype=object),\n",
       " array([896839, 896864, 897132], dtype=object),\n",
       " array([897137, 897374, 89742801], dtype=object),\n",
       " array([897604, 897630, 897880], dtype=object),\n",
       " array([89812, 89813, 898143], dtype=object),\n",
       " array([89827, 898431, 89864002], dtype=object),\n",
       " array([898677, 898678, 89869], dtype=object),\n",
       " array([898690, 899147, 899187], dtype=object),\n",
       " array([899667, 899987, 9010018], dtype=object),\n",
       " array([901011, 9010258, 9010259], dtype=object),\n",
       " array([901028, 9010333, 901034301], dtype=object),\n",
       " array([901034302, 901041, 9010598], dtype=object),\n",
       " array([9010872, 9010877, 901088], dtype=object),\n",
       " array([9011494, 9011495, 9011971], dtype=object),\n",
       " array([9012000, 9012315, 9012568], dtype=object),\n",
       " array([9012795, 901288, 9013005], dtype=object),\n",
       " array([901303, 901315, 9013579], dtype=object),\n",
       " array([9013594, 9013838, 901549], dtype=object),\n",
       " array([901836, 90250, 90251], dtype=object),\n",
       " array([902727, 90291, 902975], dtype=object),\n",
       " array([902976, 903011, 90312], dtype=object),\n",
       " array([90317302, 903483, 903507], dtype=object),\n",
       " array([903516, 903554, 903811], dtype=object),\n",
       " array([90401601, 90401602, 904302], dtype=object),\n",
       " array([904357, 90439701, 904647], dtype=object),\n",
       " array([904689, 9047, 904969], dtype=object),\n",
       " array([904971, 905189, 905190], dtype=object),\n",
       " array([90524101, 905501, 905502], dtype=object),\n",
       " array([905520, 905539, 905557], dtype=object),\n",
       " array([905680, 905686, 905978], dtype=object),\n",
       " array([90602302, 906024, 906290], dtype=object),\n",
       " array([906539, 906564, 906616], dtype=object),\n",
       " array([906878, 907145, 907367], dtype=object),\n",
       " array([907409, 90745, 90769601], dtype=object),\n",
       " array([90769602, 907914, 907915], dtype=object),\n",
       " array([908194, 908445, 908469], dtype=object),\n",
       " array([908489, 908916, 909220], dtype=object),\n",
       " array([909231, 909410, 909411], dtype=object),\n",
       " array([909445, 90944601, 909777], dtype=object),\n",
       " array([9110127, 9110720, 9110732], dtype=object),\n",
       " array([9110944, 911150, 911157302], dtype=object),\n",
       " array([9111596, 9111805, 9111843], dtype=object),\n",
       " array([911201, 911202, 9112085], dtype=object),\n",
       " array([9112366, 9112367, 9112594], dtype=object),\n",
       " array([9112712, 911296201, 911296202], dtype=object),\n",
       " array([9113156, 911320501, 911320502], dtype=object),\n",
       " array([9113239, 9113455, 9113514], dtype=object),\n",
       " array([9113538, 911366, 9113778], dtype=object),\n",
       " array([9113816, 911384, 9113846], dtype=object),\n",
       " array([911391, 911408, 911654], dtype=object),\n",
       " array([911673, 911685, 911916], dtype=object),\n",
       " array([912193, 91227, 912519], dtype=object),\n",
       " array([912558, 912600, 913063], dtype=object),\n",
       " array([913102, 913505, 913512], dtype=object),\n",
       " array([913535, 91376701, 91376702], dtype=object),\n",
       " array([914062, 914101, 914102], dtype=object),\n",
       " array([914333, 914366, 914580], dtype=object),\n",
       " array([914769, 91485, 914862], dtype=object),\n",
       " array([91504, 91505, 915143], dtype=object),\n",
       " array([915186, 915276, 91544001], dtype=object),\n",
       " array([91544002, 915452, 915460], dtype=object),\n",
       " array([91550, 915664, 915691], dtype=object),\n",
       " array([915940, 91594602, 916221], dtype=object),\n",
       " array([916799, 916838, 917062], dtype=object),\n",
       " array([917080, 917092, 91762702], dtype=object),\n",
       " array([91789, 917896, 917897], dtype=object),\n",
       " array([91805, 91813701, 91813702], dtype=object),\n",
       " array([918192, 918465, 91858], dtype=object),\n",
       " array([91903901, 91903902, 91930402], dtype=object),\n",
       " array([919537, 919555, 91979701], dtype=object),\n",
       " array([919812, 921092, 921362], dtype=object),\n",
       " array([921385, 921386, 921644], dtype=object),\n",
       " array([922296, 922297, 922576], dtype=object),\n",
       " array([922577, 922840, 923169], dtype=object),\n",
       " array([923465, 923748, 923780], dtype=object),\n",
       " array([924084, 924342, 924632], dtype=object),\n",
       " array([924934, 924964, 925236], dtype=object),\n",
       " array([925277, 925291, 925292], dtype=object),\n",
       " array([925311, 925622, 926125], dtype=object),\n",
       " array([926424, 926682, 926954], dtype=object),\n",
       " array([927241, 92751], dtype=object)]"
      ]
     },
     "execution_count": 73,
     "metadata": {},
     "output_type": "execute_result"
    }
   ],
   "source": [
    "batch_size = 3\n",
    "mini_batchs = [dfnp[i:i+batch_size,0] for i in range(0, len(dfnp), batch_size)]\n",
    "mini_batchs\n"
   ]
  },
  {
   "cell_type": "code",
   "execution_count": 75,
   "id": "8edc85e7",
   "metadata": {},
   "outputs": [
    {
     "data": {
      "text/plain": [
       "[array([89511501, 89511502, 89524], dtype=object),\n",
       " array([91504, 91505, 915143], dtype=object),\n",
       " array([899667, 899987, 9010018], dtype=object),\n",
       " array([908489, 908916, 909220], dtype=object),\n",
       " array([86408, 86409, 864292], dtype=object),\n",
       " array([914769, 91485, 914862], dtype=object),\n",
       " array([904971, 905189, 905190], dtype=object),\n",
       " array([863030, 863031, 863270], dtype=object),\n",
       " array([91544002, 915452, 915460], dtype=object),\n",
       " array([897137, 897374, 89742801], dtype=object),\n",
       " array([874839, 874858, 875093], dtype=object),\n",
       " array([881046502, 8810528, 8810703], dtype=object),\n",
       " array([89812, 89813, 898143], dtype=object),\n",
       " array([895299, 8953902, 895633], dtype=object),\n",
       " array([865137, 86517, 865423], dtype=object),\n",
       " array([8712766, 8712853, 87139402], dtype=object),\n",
       " array([8912521, 8912909, 8913], dtype=object),\n",
       " array([88350402, 883539, 883852], dtype=object),\n",
       " array([875878, 875938, 877159], dtype=object),\n",
       " array([87930, 879523, 879804], dtype=object),\n",
       " array([898690, 899147, 899187], dtype=object),\n",
       " array([871201, 8712064, 8712289], dtype=object),\n",
       " array([8610862, 8610908, 861103], dtype=object),\n",
       " array([875099, 875263, 87556202], dtype=object),\n",
       " array([904689, 9047, 904969], dtype=object),\n",
       " array([91789, 917896, 917897], dtype=object),\n",
       " array([866674, 866714, 8670], dtype=object),\n",
       " array([8913049, 89143601, 89143602], dtype=object),\n",
       " array([894618, 894855, 895100], dtype=object),\n",
       " array([915186, 915276, 91544001], dtype=object),\n",
       " array([894089, 894090, 894326], dtype=object),\n",
       " array([8911834, 8912049, 8912055], dtype=object),\n",
       " array([8610404, 8610629, 8610637], dtype=object),\n",
       " array([9111596, 9111805, 9111843], dtype=object),\n",
       " array([852781, 852973, 853201], dtype=object),\n",
       " array([858970, 858981, 858986], dtype=object),\n",
       " array([901034302, 901041, 9010598], dtype=object),\n",
       " array([916799, 916838, 917062], dtype=object),\n",
       " array([926424, 926682, 926954], dtype=object),\n",
       " array([9012795, 901288, 9013005], dtype=object),\n",
       " array([86730502, 867387, 867739], dtype=object),\n",
       " array([892657, 89296, 893061], dtype=object),\n",
       " array([857373, 857374, 857392], dtype=object),\n",
       " array([864729, 864877, 865128], dtype=object),\n",
       " array([89122, 8912280, 8912284], dtype=object),\n",
       " array([913102, 913505, 913512], dtype=object),\n",
       " array([902976, 903011, 90312], dtype=object),\n",
       " array([871001501, 871001502, 8710441], dtype=object),\n",
       " array([8812844, 8812877, 8813129], dtype=object),\n",
       " array([868826, 868871, 868999], dtype=object),\n",
       " array([873843, 873885, 874158], dtype=object),\n",
       " array([86973701, 86973702, 869931], dtype=object),\n",
       " array([888264, 888570, 889403], dtype=object),\n",
       " array([892189, 892214, 892399], dtype=object),\n",
       " array([90524101, 905501, 905502], dtype=object),\n",
       " array([884448, 884626, 88466802], dtype=object),\n",
       " array([89344, 89346, 893526], dtype=object),\n",
       " array([901028, 9010333, 901034301], dtype=object),\n",
       " array([925311, 925622, 926125], dtype=object),\n",
       " array([911391, 911408, 911654], dtype=object),\n",
       " array([9113538, 911366, 9113778], dtype=object),\n",
       " array([91903901, 91903902, 91930402], dtype=object),\n",
       " array([921385, 921386, 921644], dtype=object),\n",
       " array([8811523, 8811779, 8811842], dtype=object),\n",
       " array([889719, 88995002, 8910251], dtype=object),\n",
       " array([873592, 873593, 873701], dtype=object),\n",
       " array([9113816, 911384, 9113846], dtype=object),\n",
       " array([912558, 912600, 913063], dtype=object),\n",
       " array([88143502, 88147101, 88147102], dtype=object),\n",
       " array([857155, 857156, 857343], dtype=object),\n",
       " array([84348301, 84358402, 843786], dtype=object),\n",
       " array([859464, 859465, 859471], dtype=object),\n",
       " array([861648, 861799, 861853], dtype=object),\n",
       " array([857793, 857810, 858477], dtype=object),\n",
       " array([909231, 909410, 909411], dtype=object),\n",
       " array([914062, 914101, 914102], dtype=object),\n",
       " array([869254, 869476, 869691], dtype=object),\n",
       " array([883263, 883270, 88330202], dtype=object),\n",
       " array([9013594, 9013838, 901549], dtype=object),\n",
       " array([90769602, 907914, 907915], dtype=object),\n",
       " array([868202, 868223, 868682], dtype=object),\n",
       " array([9113239, 9113455, 9113514], dtype=object),\n",
       " array([905680, 905686, 905978], dtype=object),\n",
       " array([84799002, 848406, 84862001], dtype=object),\n",
       " array([919812, 921092, 921362], dtype=object),\n",
       " array([922296, 922297, 922576], dtype=object),\n",
       " array([8910996, 8911163, 8911164], dtype=object),\n",
       " array([909445, 90944601, 909777], dtype=object),\n",
       " array([88411702, 884180, 884437], dtype=object),\n",
       " array([852552, 852631, 852763], dtype=object),\n",
       " array([901836, 90250, 90251], dtype=object),\n",
       " array([88199202, 88203002, 88206102], dtype=object),\n",
       " array([8611161, 8611555, 8611792], dtype=object),\n",
       " array([919537, 919555, 91979701], dtype=object),\n",
       " array([862965, 862980, 862989], dtype=object),\n",
       " array([8910499, 8910506, 8910720], dtype=object),\n",
       " array([8911230, 8911670, 8911800], dtype=object),\n",
       " array([9112712, 911296201, 911296202], dtype=object),\n",
       " array([894329, 894335, 894604], dtype=object),\n",
       " array([86135502, 861597, 861598], dtype=object),\n",
       " array([907409, 90745, 90769601], dtype=object),\n",
       " array([9011494, 9011495, 9011971], dtype=object),\n",
       " array([893548, 893783, 89382601], dtype=object),\n",
       " array([89382602, 893988, 894047], dtype=object),\n",
       " array([912193, 91227, 912519], dtype=object),\n",
       " array([898677, 898678, 89869], dtype=object),\n",
       " array([874217, 874373, 874662], dtype=object),\n",
       " array([862009, 862028, 86208], dtype=object),\n",
       " array([879830, 8810158, 8810436], dtype=object),\n",
       " array([9112366, 9112367, 9112594], dtype=object),\n",
       " array([9110127, 9110720, 9110732], dtype=object),\n",
       " array([90401601, 90401602, 904302], dtype=object),\n",
       " array([902727, 90291, 902975], dtype=object),\n",
       " array([8612080, 8612399, 86135501], dtype=object),\n",
       " array([891716, 891923, 891936], dtype=object),\n",
       " array([842302, 842517, 84300903], dtype=object),\n",
       " array([908194, 908445, 908469], dtype=object),\n",
       " array([88119002, 8812816, 8812818], dtype=object),\n",
       " array([91550, 915664, 915691], dtype=object),\n",
       " array([89827, 898431, 89864002], dtype=object),\n",
       " array([854268, 854941, 855133], dtype=object),\n",
       " array([924934, 924964, 925236], dtype=object),\n",
       " array([9110944, 911150, 911157302], dtype=object),\n",
       " array([871642, 872113, 872608], dtype=object),\n",
       " array([846226, 846381, 84667401], dtype=object),\n",
       " array([911201, 911202, 9112085], dtype=object),\n",
       " array([862548, 862717, 862722], dtype=object),\n",
       " array([87163, 87164, 871641], dtype=object),\n",
       " array([8915, 891670, 891703], dtype=object),\n",
       " array([877989, 878796, 87880], dtype=object),\n",
       " array([8711202, 8711216, 871122], dtype=object),\n",
       " array([906539, 906564, 906616], dtype=object),\n",
       " array([859717, 859983, 8610175], dtype=object),\n",
       " array([87281702, 873357, 873586], dtype=object),\n",
       " array([918192, 918465, 91858], dtype=object),\n",
       " array([885429, 8860702, 886226], dtype=object),\n",
       " array([881094802, 8810955, 8810987], dtype=object),\n",
       " array([86355, 864018, 864033], dtype=object),\n",
       " array([859487, 859575, 859711], dtype=object),\n",
       " array([927241, 92751], dtype=object),\n",
       " array([925277, 925291, 925292], dtype=object),\n",
       " array([844359, 84458202, 844981], dtype=object),\n",
       " array([859196, 85922302, 859283], dtype=object),\n",
       " array([855625, 856106, 85638502], dtype=object),\n",
       " array([886452, 88649001, 886776], dtype=object),\n",
       " array([8510824, 8511133, 851509], dtype=object),\n",
       " array([915940, 91594602, 916221], dtype=object),\n",
       " array([896839, 896864, 897132], dtype=object),\n",
       " array([9010872, 9010877, 901088], dtype=object),\n",
       " array([887181, 88725602, 887549], dtype=object),\n",
       " array([87106, 8711002, 8711003], dtype=object),\n",
       " array([877486, 877500, 877501], dtype=object),\n",
       " array([892438, 892604, 89263202], dtype=object),\n",
       " array([906878, 907145, 907367], dtype=object),\n",
       " array([917080, 917092, 91762702], dtype=object),\n",
       " array([904357, 90439701, 904647], dtype=object),\n",
       " array([903516, 903554, 903811], dtype=object),\n",
       " array([911673, 911685, 911916], dtype=object),\n",
       " array([857438, 85759902, 857637], dtype=object),\n",
       " array([914333, 914366, 914580], dtype=object),\n",
       " array([9012000, 9012315, 9012568], dtype=object),\n",
       " array([8910721, 8910748, 8910988], dtype=object),\n",
       " array([849014, 8510426, 8510653], dtype=object),\n",
       " array([865432, 865468, 86561], dtype=object),\n",
       " array([84501001, 845636, 84610002], dtype=object),\n",
       " array([897604, 897630, 897880], dtype=object),\n",
       " array([901303, 901315, 9013579], dtype=object),\n",
       " array([923465, 923748, 923780], dtype=object),\n",
       " array([853401, 853612, 85382601], dtype=object),\n",
       " array([8712291, 87127, 8712729], dtype=object),\n",
       " array([905520, 905539, 905557], dtype=object),\n",
       " array([922577, 922840, 923169], dtype=object),\n",
       " array([854002, 854039, 854253], dtype=object),\n",
       " array([855138, 855167, 855563], dtype=object),\n",
       " array([9113156, 911320501, 911320502], dtype=object),\n",
       " array([924084, 924342, 924632], dtype=object),\n",
       " array([869104, 869218, 869224], dtype=object),\n",
       " array([88147202, 881861, 881972], dtype=object),\n",
       " array([91805, 91813701, 91813702], dtype=object),\n",
       " array([864496, 864685, 864726], dtype=object),\n",
       " array([857010, 85713702, 85715], dtype=object),\n",
       " array([882488, 88249602, 88299702], dtype=object),\n",
       " array([884689, 884948, 88518501], dtype=object),\n",
       " array([901011, 9010258, 9010259], dtype=object),\n",
       " array([871149, 8711561, 8711803], dtype=object),\n",
       " array([866083, 866203, 866458], dtype=object),\n",
       " array([90602302, 906024, 906290], dtype=object),\n",
       " array([86211, 862261, 862485], dtype=object),\n",
       " array([913535, 91376701, 91376702], dtype=object),\n",
       " array([90317302, 903483, 903507], dtype=object)]"
      ]
     },
     "execution_count": 75,
     "metadata": {},
     "output_type": "execute_result"
    }
   ],
   "source": [
    "np.random.shuffle(mini_batchs)\n",
    "mini_batchs"
   ]
  },
  {
   "cell_type": "code",
   "execution_count": 70,
   "id": "315c6621",
   "metadata": {},
   "outputs": [
    {
     "name": "stdout",
     "output_type": "stream",
     "text": [
      "epoch 0 : 100/100\n",
      "epoch 1 : 100/100\n",
      "epoch 2 : 100/100\n",
      "epoch 3 : 100/100\n",
      "epoch 4 : 100/100\n",
      "epoch 5 : 100/100\n",
      "epoch 6 : 100/100\n",
      "epoch 7 : 100/100\n",
      "epoch 8 : 100/100\n",
      "epoch 9 : 100/100\n",
      "epoch 10 : 100/100\n",
      "epoch 11 : 100/100\n",
      "epoch 12 : 100/100\n",
      "epoch 13 : 100/100\n",
      "epoch 14 : 100/100\n"
     ]
    }
   ],
   "source": [
    "epochs =  15\n",
    "nb_batch = 100\n",
    "\n",
    "for epoch in range(epochs):\n",
    "    for num_batch in range(nb_batch):\n",
    "        print(f\"epoch {epoch} : {num_batch + 1}/{nb_batch}\\r\" , end='', flush=True)\n",
    "        \n",
    "    print()"
   ]
  },
  {
   "cell_type": "code",
   "execution_count": null,
   "id": "73bf8d40",
   "metadata": {},
   "outputs": [
    {
     "data": {
      "text/plain": [
       "array([[1., 0., 0., 0., 0., 0., 0., 0., 0., 0.],\n",
       "       [0., 1., 0., 0., 0., 0., 0., 0., 0., 0.],\n",
       "       [0., 0., 1., 0., 0., 0., 0., 0., 0., 0.],\n",
       "       [0., 0., 0., 1., 0., 0., 0., 0., 0., 0.],\n",
       "       [0., 0., 0., 0., 1., 0., 0., 0., 0., 0.],\n",
       "       [0., 0., 0., 0., 0., 1., 0., 0., 0., 0.],\n",
       "       [0., 0., 0., 0., 0., 0., 1., 0., 0., 0.],\n",
       "       [0., 0., 0., 0., 0., 0., 0., 1., 0., 0.],\n",
       "       [0., 0., 0., 0., 0., 0., 0., 0., 1., 0.],\n",
       "       [0., 0., 0., 0., 0., 0., 0., 0., 0., 1.]])"
      ]
     },
     "execution_count": 9,
     "metadata": {},
     "output_type": "execute_result"
    }
   ],
   "source": [
    "np.diag(np.ones(10))"
   ]
  },
  {
   "cell_type": "code",
   "execution_count": null,
   "id": "30a5db78",
   "metadata": {},
   "outputs": [],
   "source": [
    "# network = model.createNetwork([\n",
    "# layers.DenseLayer(input_shape, activation='sigmoid'),\n",
    "# layers.DenseLayer(24, activation='sigmoid', weights_initializer='heUniform'),\n",
    "# layers.DenseLayer(24, activation='sigmoid', weights_initializer='heUniform'),\n",
    "# layers.DenseLayer(24, activation='sigmoid', weights_initializer='heUniform'),\n",
    "# layers.DenseLayer(output_shape, activation='softmax', weights_initializer='heUniform')\n",
    "# ])"
   ]
  },
  {
   "cell_type": "code",
   "execution_count": 3,
   "id": "a1478125",
   "metadata": {},
   "outputs": [
    {
     "data": {
      "text/plain": [
       "30"
      ]
     },
     "execution_count": 3,
     "metadata": {},
     "output_type": "execute_result"
    }
   ],
   "source": [
    "dense1 = DenseLayer(30, activation=\"relu\", layerName=\"dense1\")\n",
    "dense1.input_shape"
   ]
  },
  {
   "cell_type": "code",
   "execution_count": 2,
   "id": "60bb084c",
   "metadata": {},
   "outputs": [],
   "source": [
    "model = MySequencial([\n",
    "    DenseLayer(30, activation=\"relu\", layerName=\"dense1\"), \n",
    "    DenseLayer(24, activation='sigmoid', weights_initializer='heUniform'),\n",
    "    DenseLayer(24, activation='sigmoid', weights_initializer='heUniform'),\n",
    "    DenseLayer(24, activation='sigmoid', weights_initializer='heUniform'),\n",
    "    DenseLayer(2, activation='softmax', weights_initializer='heUniform')\n",
    "])\n"
   ]
  },
  {
   "cell_type": "code",
   "execution_count": 54,
   "id": "fbae1b85",
   "metadata": {},
   "outputs": [],
   "source": [
    "b = np.array([0.1, 0.2, 0.3])"
   ]
  },
  {
   "cell_type": "code",
   "execution_count": 55,
   "id": "13802f61",
   "metadata": {},
   "outputs": [
    {
     "data": {
      "text/plain": [
       "array([0.1, 0.2, 0.3])"
      ]
     },
     "execution_count": 55,
     "metadata": {},
     "output_type": "execute_result"
    }
   ],
   "source": [
    "b"
   ]
  },
  {
   "cell_type": "code",
   "execution_count": 73,
   "id": "61a915a0",
   "metadata": {},
   "outputs": [],
   "source": [
    "a = np.array([0.5, 1])"
   ]
  },
  {
   "cell_type": "code",
   "execution_count": 67,
   "id": "9b31958e",
   "metadata": {},
   "outputs": [
    {
     "data": {
      "text/plain": [
       "array([ 0.5, -0.5])"
      ]
     },
     "execution_count": 67,
     "metadata": {},
     "output_type": "execute_result"
    }
   ],
   "source": [
    "a.transpose()"
   ]
  },
  {
   "cell_type": "code",
   "execution_count": 79,
   "id": "011d2cb0",
   "metadata": {},
   "outputs": [],
   "source": [
    "z = W.transpose() @ a + b"
   ]
  },
  {
   "cell_type": "code",
   "execution_count": 81,
   "id": "66214427",
   "metadata": {},
   "outputs": [
    {
     "name": "stdout",
     "output_type": "stream",
     "text": [
      "[4.6 6.2 7.8]\n"
     ]
    },
    {
     "data": {
      "text/plain": [
       "array([5.6, 7.2, 8.8])"
      ]
     },
     "execution_count": 81,
     "metadata": {},
     "output_type": "execute_result"
    }
   ],
   "source": [
    "def test(z):\n",
    "    return z + 1\n",
    "print(z)\n",
    "test(z)"
   ]
  },
  {
   "cell_type": "code",
   "execution_count": 7,
   "id": "6fd33d9b",
   "metadata": {},
   "outputs": [],
   "source": [
    "X = np.array([[185.32,  12.69],\n",
    "       [259.92,  11.87],\n",
    "       [231.01,  14.41],\n",
    "       [175.37,  11.72],\n",
    "       [187.12,  14.13],\n",
    "       [225.91,  12.1 ],\n",
    "       [208.41,  14.18],\n",
    "       [207.08,  14.03],\n",
    "       [280.6 ,  14.23],\n",
    "       [202.87,  12.25],\n",
    "       [196.7 ,  13.54],\n",
    "       [270.31,  14.6 ],\n",
    "       [192.95,  15.2 ],\n",
    "       [213.57,  14.28],\n",
    "       [164.47,  11.92],\n",
    "       [177.26,  15.04],\n",
    "       [241.77,  14.9 ],\n",
    "       [237.  ,  13.13],\n",
    "       [219.74,  13.87],\n",
    "       [266.39,  13.25],\n",
    "       [270.45,  13.95],\n",
    "       [261.96,  13.49],\n",
    "       [243.49,  12.86],\n",
    "       [220.58,  12.36],\n",
    "       [163.59,  11.65],\n",
    "       [244.76,  13.33],\n",
    "       [271.19,  14.84],\n",
    "       [201.99,  15.39],\n",
    "       [229.93,  14.56],\n",
    "       [204.97,  12.28],\n",
    "       [173.19,  12.22],\n",
    "       [231.51,  11.95],\n",
    "       [152.69,  14.83],\n",
    "       [163.42,  13.3 ],\n",
    "       [215.95,  13.98],\n",
    "       [218.04,  15.25],\n",
    "       [251.3 ,  13.8 ],\n",
    "       [233.33,  13.53],\n",
    "       [280.24,  12.41],\n",
    "       [243.02,  13.72],\n",
    "       [155.67,  12.68],\n",
    "       [275.17,  14.64],\n",
    "       [151.73,  12.69],\n",
    "       [151.32,  14.81],\n",
    "       [164.9 ,  11.73],\n",
    "       [282.55,  13.28],\n",
    "       [192.98,  11.7 ],\n",
    "       [202.6 ,  12.96],\n",
    "       [220.67,  11.53],\n",
    "       [169.97,  12.34],\n",
    "       [209.47,  12.71],\n",
    "       [232.8 ,  12.64],\n",
    "       [272.8 ,  15.35],\n",
    "       [158.02,  12.34],\n",
    "       [226.01,  14.58],\n",
    "       [158.64,  12.24],\n",
    "       [211.66,  14.17],\n",
    "       [271.95,  14.97],\n",
    "       [257.16,  11.71],\n",
    "       [281.85,  13.96],\n",
    "       [161.63,  12.52],\n",
    "       [233.8 ,  13.04],\n",
    "       [210.29,  14.72],\n",
    "       [261.24,  13.69],\n",
    "       [256.98,  13.12],\n",
    "       [281.56,  13.92],\n",
    "       [280.64,  11.68],\n",
    "       [269.16,  13.74],\n",
    "       [246.34,  12.27],\n",
    "       [224.07,  12.66],\n",
    "       [164.24,  11.51],\n",
    "       [272.42,  14.18],\n",
    "       [177.68,  12.53],\n",
    "       [212.86,  14.77],\n",
    "       [165.88,  15.37],\n",
    "       [277.43,  12.48],\n",
    "       [236.51,  12.94],\n",
    "       [244.14,  11.85],\n",
    "       [213.45,  13.85],\n",
    "       [234.57,  14.27],\n",
    "       [270.34,  12.47],\n",
    "       [170.68,  13.06],\n",
    "       [226.79,  15.34],\n",
    "       [245.92,  14.45],\n",
    "       [281.32,  12.57],\n",
    "       [185.03,  13.19],\n",
    "       [189.88,  14.1 ],\n",
    "       [278.48,  12.11],\n",
    "       [219.92,  14.21],\n",
    "       [216.58,  15.15],\n",
    "       [249.48,  15.03],\n",
    "       [165.09,  12.28],\n",
    "       [158.87,  14.82],\n",
    "       [279.98,  11.56],\n",
    "       [256.55,  14.41],\n",
    "       [272.61,  12.58],\n",
    "       [246.49,  12.45],\n",
    "       [160.26,  14.48],\n",
    "       [155.7 ,  14.3 ],\n",
    "       [188.27,  13.45],\n",
    "       [270.36,  12.47],\n",
    "       [213.22,  12.92],\n",
    "       [175.7 ,  13.39],\n",
    "       [174.52,  14.7 ],\n",
    "       [233.  ,  12.63],\n",
    "       [281.37,  12.88],\n",
    "       [240.62,  14.43],\n",
    "       [185.81,  11.55],\n",
    "       [270.5 ,  15.33],\n",
    "       [172.98,  12.11],\n",
    "       [208.41,  13.89],\n",
    "       [283.51,  15.35],\n",
    "       [283.36,  12.48],\n",
    "       [230.85,  13.24],\n",
    "       [181.24,  11.76],\n",
    "       [172.78,  12.93],\n",
    "       [161.88,  12.1 ],\n",
    "       [156.03,  13.99],\n",
    "       [216.52,  12.47],\n",
    "       [221.06,  13.2 ],\n",
    "       [238.99,  15.23],\n",
    "       [197.69,  14.08],\n",
    "       [179.55,  15.26],\n",
    "       [233.39,  12.13],\n",
    "       [184.7 ,  12.14],\n",
    "       [174.18,  12.73],\n",
    "       [261.11,  13.33],\n",
    "       [187.42,  13.18],\n",
    "       [186.1 ,  14.43],\n",
    "       [157.94,  12.66],\n",
    "       [193.64,  12.23],\n",
    "       [249.65,  12.22],\n",
    "       [190.56,  11.73],\n",
    "       [252.  ,  12.96],\n",
    "       [238.55,  12.37],\n",
    "       [152.94,  12.79],\n",
    "       [255.17,  14.85],\n",
    "       [197.09,  14.89],\n",
    "       [156.8 ,  13.59],\n",
    "       [184.75,  13.26],\n",
    "       [179.92,  15.07],\n",
    "       [190.79,  15.28],\n",
    "       [164.73,  13.22],\n",
    "       [209.87,  14.34],\n",
    "       [196.58,  13.47],\n",
    "       [159.51,  12.74],\n",
    "       [247.87,  11.92],\n",
    "       [212.44,  12.45],\n",
    "       [172.34,  11.99],\n",
    "       [259.87,  14.25],\n",
    "       [201.23,  13.07],\n",
    "       [248.34,  13.92],\n",
    "       [273.66,  15.18],\n",
    "       [215.09,  14.14],\n",
    "       [223.53,  12.74],\n",
    "       [211.22,  14.38],\n",
    "       [224.61,  14.03],\n",
    "       [215.75,  15.31],\n",
    "       [254.82,  12.02],\n",
    "       [259.9 ,  15.17],\n",
    "       [260.25,  12.87],\n",
    "       [199.67,  12.47],\n",
    "       [157.52,  13.39],\n",
    "       [264.81,  14.58],\n",
    "       [239.4 ,  14.89],\n",
    "       [238.98,  12.39],\n",
    "       [258.43,  12.97],\n",
    "       [270.16,  12.81],\n",
    "       [162.41,  14.42],\n",
    "       [164.53,  14.98],\n",
    "       [205.61,  14.62],\n",
    "       [157.1 ,  13.68],\n",
    "       [241.38,  12.02],\n",
    "       [232.13,  12.07],\n",
    "       [191.04,  12.96],\n",
    "       [233.64,  12.02],\n",
    "       [174.95,  14.63],\n",
    "       [246.64,  13.32],\n",
    "       [188.07,  14.27],\n",
    "       [213.16,  12.75],\n",
    "       [268.08,  12.31],\n",
    "       [258.58,  13.97],\n",
    "       [237.21,  14.23],\n",
    "       [251.02,  15.02],\n",
    "       [274.28,  12.52],\n",
    "       [172.12,  15.09],\n",
    "       [177.52,  12.39],\n",
    "       [258.71,  15.36],\n",
    "       [264.01,  13.57],\n",
    "       [200.71,  15.45],\n",
    "       [249.37,  14.02],\n",
    "       [151.5 ,  12.28],\n",
    "       [151.82,  15.13],\n",
    "       [181.92,  12.18],\n",
    "       [228.65,  12.31],\n",
    "       [223.78,  15.3 ],\n",
    "       [266.63,  12.48],\n",
    "       [273.68,  13.1 ],\n",
    "       [220.61,  12.8 ],\n",
    "       [284.99,  12.73]])"
   ]
  },
  {
   "cell_type": "code",
   "execution_count": 2,
   "id": "b65e1b55",
   "metadata": {},
   "outputs": [],
   "source": [
    "Y = np.array([[1.],\n",
    "       [0.],\n",
    "       [0.],\n",
    "       [0.],\n",
    "       [1.],\n",
    "       [1.],\n",
    "       [0.],\n",
    "       [0.],\n",
    "       [0.],\n",
    "       [1.],\n",
    "       [1.],\n",
    "       [0.],\n",
    "       [0.],\n",
    "       [0.],\n",
    "       [0.],\n",
    "       [0.],\n",
    "       [0.],\n",
    "       [0.],\n",
    "       [0.],\n",
    "       [0.],\n",
    "       [0.],\n",
    "       [0.],\n",
    "       [0.],\n",
    "       [1.],\n",
    "       [0.],\n",
    "       [0.],\n",
    "       [0.],\n",
    "       [0.],\n",
    "       [0.],\n",
    "       [1.],\n",
    "       [0.],\n",
    "       [0.],\n",
    "       [0.],\n",
    "       [0.],\n",
    "       [0.],\n",
    "       [0.],\n",
    "       [0.],\n",
    "       [0.],\n",
    "       [0.],\n",
    "       [0.],\n",
    "       [0.],\n",
    "       [0.],\n",
    "       [0.],\n",
    "       [0.],\n",
    "       [0.],\n",
    "       [0.],\n",
    "       [0.],\n",
    "       [1.],\n",
    "       [0.],\n",
    "       [0.],\n",
    "       [1.],\n",
    "       [1.],\n",
    "       [0.],\n",
    "       [0.],\n",
    "       [0.],\n",
    "       [0.],\n",
    "       [0.],\n",
    "       [0.],\n",
    "       [0.],\n",
    "       [0.],\n",
    "       [0.],\n",
    "       [0.],\n",
    "       [0.],\n",
    "       [0.],\n",
    "       [0.],\n",
    "       [0.],\n",
    "       [0.],\n",
    "       [0.],\n",
    "       [1.],\n",
    "       [1.],\n",
    "       [0.],\n",
    "       [0.],\n",
    "       [1.],\n",
    "       [0.],\n",
    "       [0.],\n",
    "       [0.],\n",
    "       [0.],\n",
    "       [0.],\n",
    "       [0.],\n",
    "       [0.],\n",
    "       [0.],\n",
    "       [0.],\n",
    "       [0.],\n",
    "       [0.],\n",
    "       [0.],\n",
    "       [1.],\n",
    "       [1.],\n",
    "       [0.],\n",
    "       [0.],\n",
    "       [0.],\n",
    "       [0.],\n",
    "       [0.],\n",
    "       [0.],\n",
    "       [0.],\n",
    "       [0.],\n",
    "       [0.],\n",
    "       [0.],\n",
    "       [0.],\n",
    "       [0.],\n",
    "       [1.],\n",
    "       [0.],\n",
    "       [1.],\n",
    "       [1.],\n",
    "       [0.],\n",
    "       [1.],\n",
    "       [0.],\n",
    "       [0.],\n",
    "       [0.],\n",
    "       [0.],\n",
    "       [0.],\n",
    "       [0.],\n",
    "       [0.],\n",
    "       [0.],\n",
    "       [0.],\n",
    "       [0.],\n",
    "       [0.],\n",
    "       [0.],\n",
    "       [0.],\n",
    "       [1.],\n",
    "       [1.],\n",
    "       [0.],\n",
    "       [0.],\n",
    "       [0.],\n",
    "       [1.],\n",
    "       [1.],\n",
    "       [0.],\n",
    "       [0.],\n",
    "       [1.],\n",
    "       [0.],\n",
    "       [0.],\n",
    "       [1.],\n",
    "       [0.],\n",
    "       [0.],\n",
    "       [0.],\n",
    "       [1.],\n",
    "       [0.],\n",
    "       [0.],\n",
    "       [0.],\n",
    "       [0.],\n",
    "       [1.],\n",
    "       [0.],\n",
    "       [0.],\n",
    "       [0.],\n",
    "       [0.],\n",
    "       [1.],\n",
    "       [0.],\n",
    "       [0.],\n",
    "       [1.],\n",
    "       [0.],\n",
    "       [0.],\n",
    "       [1.],\n",
    "       [0.],\n",
    "       [0.],\n",
    "       [0.],\n",
    "       [1.],\n",
    "       [0.],\n",
    "       [0.],\n",
    "       [0.],\n",
    "       [0.],\n",
    "       [0.],\n",
    "       [0.],\n",
    "       [1.],\n",
    "       [0.],\n",
    "       [0.],\n",
    "       [0.],\n",
    "       [1.],\n",
    "       [0.],\n",
    "       [0.],\n",
    "       [0.],\n",
    "       [0.],\n",
    "       [0.],\n",
    "       [0.],\n",
    "       [1.],\n",
    "       [1.],\n",
    "       [1.],\n",
    "       [1.],\n",
    "       [0.],\n",
    "       [0.],\n",
    "       [1.],\n",
    "       [1.],\n",
    "       [0.],\n",
    "       [0.],\n",
    "       [0.],\n",
    "       [0.],\n",
    "       [0.],\n",
    "       [0.],\n",
    "       [1.],\n",
    "       [0.],\n",
    "       [0.],\n",
    "       [0.],\n",
    "       [0.],\n",
    "       [0.],\n",
    "       [0.],\n",
    "       [1.],\n",
    "       [1.],\n",
    "       [0.],\n",
    "       [0.],\n",
    "       [0.],\n",
    "       [1.],\n",
    "       [0.]])"
   ]
  },
  {
   "cell_type": "code",
   "execution_count": 2,
   "id": "d9cacb3d",
   "metadata": {},
   "outputs": [],
   "source": [
    "# print(f\"Temperature Max, Min pre normalization: {np.max(X[:,0]):0.2f}, {np.min(X[:,0]):0.2f}\")\n",
    "# print(f\"Duration    Max, Min pre normalization: {np.max(X[:,1]):0.2f}, {np.min(X[:,1]):0.2f}\")\n",
    "# norm_l = tf.keras.layers.Normalization(axis=-1)\n",
    "# norm_l.adapt(X)  # learns mean, variance\n",
    "# Xn = norm_l(X)\n",
    "# print(f\"Temperature Max, Min post normalization: {np.max(Xn[:,0]):0.2f}, {np.min(Xn[:,0]):0.2f}\")\n",
    "# print(f\"Duration    Max, Min post normalization: {np.max(Xn[:,1]):0.2f}, {np.min(Xn[:,1]):0.2f}\")\n",
    "Xn = np.array([[-0.83, -0.65],\n",
    "       [ 1.03, -1.39],\n",
    "       [ 0.31,  0.87],\n",
    "       [-1.08, -1.52],\n",
    "       [-0.79,  0.62],\n",
    "       [ 0.18, -1.18],\n",
    "       [-0.26,  0.66],\n",
    "       [-0.29,  0.53],\n",
    "       [ 1.55,  0.71],\n",
    "       [-0.4 , -1.05],\n",
    "       [-0.55,  0.1 ],\n",
    "       [ 1.29,  1.04],\n",
    "       [-0.64,  1.57],\n",
    "       [-0.13,  0.75],\n",
    "       [-1.36, -1.34],\n",
    "       [-1.04,  1.42],\n",
    "       [ 0.58,  1.3 ],\n",
    "       [ 0.46, -0.27],\n",
    "       [ 0.03,  0.39],\n",
    "       [ 1.19, -0.16],\n",
    "       [ 1.3 ,  0.46],\n",
    "       [ 1.08,  0.05],\n",
    "       [ 0.62, -0.51],\n",
    "       [ 0.05, -0.94],\n",
    "       [-1.38, -1.57],\n",
    "       [ 0.65, -0.09],\n",
    "       [ 1.31,  1.25],\n",
    "       [-0.42,  1.74],\n",
    "       [ 0.28,  1.  ],\n",
    "       [-0.34, -1.02],\n",
    "       [-1.14, -1.07],\n",
    "       [ 0.32, -1.31],\n",
    "       [-1.65,  1.24],\n",
    "       [-1.38, -0.11],\n",
    "       [-0.07,  0.49],\n",
    "       [-0.02,  1.61],\n",
    "       [ 0.82,  0.33],\n",
    "       [ 0.37,  0.08],\n",
    "       [ 1.54, -0.91],\n",
    "       [ 0.61,  0.26],\n",
    "       [-1.58, -0.66],\n",
    "       [ 1.41,  1.07],\n",
    "       [-1.67, -0.66],\n",
    "       [-1.69,  1.22],\n",
    "       [-1.35, -1.51],\n",
    "       [ 1.6 , -0.13],\n",
    "       [-0.64, -1.54],\n",
    "       [-0.4 , -0.41],\n",
    "       [ 0.05, -1.69],\n",
    "       [-1.22, -0.97],\n",
    "       [-0.23, -0.64],\n",
    "       [ 0.35, -0.7 ],\n",
    "       [ 1.35,  1.7 ],\n",
    "       [-1.52, -0.97],\n",
    "       [ 0.18,  1.02],\n",
    "       [-1.5 , -1.06],\n",
    "       [-0.18,  0.66],\n",
    "       [ 1.33,  1.36],\n",
    "       [ 0.96, -1.52],\n",
    "       [ 1.58,  0.47],\n",
    "       [-1.43, -0.81],\n",
    "       [ 0.38, -0.34],\n",
    "       [-0.21,  1.14],\n",
    "       [ 1.07,  0.23],\n",
    "       [ 0.96, -0.27],\n",
    "       [ 1.57,  0.43],\n",
    "       [ 1.55, -1.56],\n",
    "       [ 1.26,  0.27],\n",
    "       [ 0.69, -1.03],\n",
    "       [ 0.14, -0.69],\n",
    "       [-1.36, -1.7 ],\n",
    "       [ 1.35,  0.67],\n",
    "       [-1.03, -0.8 ],\n",
    "       [-0.15,  1.19],\n",
    "       [-1.32,  1.72],\n",
    "       [ 1.47, -0.84],\n",
    "       [ 0.45, -0.43],\n",
    "       [ 0.64, -1.4 ],\n",
    "       [-0.13,  0.38],\n",
    "       [ 0.4 ,  0.74],\n",
    "       [ 1.29, -0.86],\n",
    "       [-1.2 , -0.33],\n",
    "       [ 0.2 ,  1.69],\n",
    "       [ 0.68,  0.91],\n",
    "       [ 1.57, -0.76],\n",
    "       [-0.84, -0.21],\n",
    "       [-0.72,  0.6 ],\n",
    "       [ 1.5 , -1.17],\n",
    "       [ 0.03,  0.69],\n",
    "       [-0.05,  1.53],\n",
    "       [ 0.77,  1.42],\n",
    "       [-1.34, -1.02],\n",
    "       [-1.5 ,  1.23],\n",
    "       [ 1.53, -1.66],\n",
    "       [ 0.95,  0.87],\n",
    "       [ 1.35, -0.75],\n",
    "       [ 0.7 , -0.87],\n",
    "       [-1.46,  0.93],\n",
    "       [-1.58,  0.77],\n",
    "       [-0.76,  0.02],\n",
    "       [ 1.29, -0.85],\n",
    "       [-0.14, -0.45],\n",
    "       [-1.08, -0.03],\n",
    "       [-1.1 ,  1.12],\n",
    "       [ 0.36, -0.71],\n",
    "       [ 1.57, -0.49],\n",
    "       [ 0.55,  0.89],\n",
    "       [-0.82, -1.67],\n",
    "       [ 1.3 ,  1.68],\n",
    "       [-1.14, -1.17],\n",
    "       [-0.26,  0.41],\n",
    "       [ 1.62,  1.7 ],\n",
    "       [ 1.62, -0.84],\n",
    "       [ 0.3 , -0.17],\n",
    "       [-0.94, -1.48],\n",
    "       [-1.15, -0.44],\n",
    "       [-1.42, -1.18],\n",
    "       [-1.57,  0.5 ],\n",
    "       [-0.05, -0.85],\n",
    "       [ 0.06, -0.21],\n",
    "       [ 0.51,  1.6 ],\n",
    "       [-0.52,  0.58],\n",
    "       [-0.98,  1.62],\n",
    "       [ 0.37, -1.15],\n",
    "       [-0.85, -1.15],\n",
    "       [-1.11, -0.62],\n",
    "       [ 1.06, -0.09],\n",
    "       [-0.78, -0.23],\n",
    "       [-0.82,  0.89],\n",
    "       [-1.52, -0.69],\n",
    "       [-0.63, -1.07],\n",
    "       [ 0.78, -1.07],\n",
    "       [-0.7 , -1.51],\n",
    "       [ 0.83, -0.42],\n",
    "       [ 0.5 , -0.94],\n",
    "       [-1.64, -0.57],\n",
    "       [ 0.91,  1.26],\n",
    "       [-0.54,  1.29],\n",
    "       [-1.55,  0.14],\n",
    "       [-0.85, -0.15],\n",
    "       [-0.97,  1.46],\n",
    "       [-0.7 ,  1.64],\n",
    "       [-1.35, -0.19],\n",
    "       [-0.22,  0.8 ],\n",
    "       [-0.55,  0.03],\n",
    "       [-1.48, -0.61],\n",
    "       [ 0.73, -1.34],\n",
    "       [-0.16, -0.87],\n",
    "       [-1.16, -1.28],\n",
    "       [ 1.03,  0.72],\n",
    "       [-0.44, -0.32],\n",
    "       [ 0.74,  0.43],\n",
    "       [ 1.38,  1.55],\n",
    "       [-0.09,  0.63],\n",
    "       [ 0.12, -0.61],\n",
    "       [-0.19,  0.85],\n",
    "       [ 0.15,  0.53],\n",
    "       [-0.07,  1.67],\n",
    "       [ 0.9 , -1.25],\n",
    "       [ 1.03,  1.54],\n",
    "       [ 1.04, -0.49],\n",
    "       [-0.48, -0.85],\n",
    "       [-1.53, -0.04],\n",
    "       [ 1.15,  1.01],\n",
    "       [ 0.52,  1.29],\n",
    "       [ 0.51, -0.92],\n",
    "       [ 0.99, -0.41],\n",
    "       [ 1.29, -0.55],\n",
    "       [-1.41,  0.88],\n",
    "       [-1.35,  1.37],\n",
    "       [-0.33,  1.05],\n",
    "       [-1.54,  0.22],\n",
    "       [ 0.57, -1.25],\n",
    "       [ 0.34, -1.2 ],\n",
    "       [-0.69, -0.42],\n",
    "       [ 0.37, -1.25],\n",
    "       [-1.09,  1.06],\n",
    "       [ 0.7 , -0.1 ],\n",
    "       [-0.77,  0.74],\n",
    "       [-0.14, -0.61],\n",
    "       [ 1.24, -1.  ],\n",
    "       [ 1.  ,  0.48],\n",
    "       [ 0.46,  0.71],\n",
    "       [ 0.81,  1.41],\n",
    "       [ 1.39, -0.81],\n",
    "       [-1.16,  1.47],\n",
    "       [-1.03, -0.92],\n",
    "       [ 1.  ,  1.71],\n",
    "       [ 1.13,  0.12],\n",
    "       [-0.45,  1.79],\n",
    "       [ 0.77,  0.52],\n",
    "       [-1.68, -1.02],\n",
    "       [-1.67,  1.5 ],\n",
    "       [-0.92, -1.1 ],\n",
    "       [ 0.25, -0.99],\n",
    "       [ 0.13,  1.66],\n",
    "       [ 1.2 , -0.84],\n",
    "       [ 1.38, -0.3 ],\n",
    "       [ 0.05, -0.56],\n",
    "       [ 1.66, -0.62]])"
   ]
  },
  {
   "cell_type": "code",
   "execution_count": 4,
   "id": "680295fe",
   "metadata": {},
   "outputs": [],
   "source": [
    "def my_dense(a_in, W, b):\n",
    "    \"\"\"\n",
    "    Computes dense layer\n",
    "    Args:\n",
    "      a_in (ndarray (n, )) : Data, 1 example \n",
    "      W    (ndarray (n,j)) : Weight matrix, n features per unit, j units\n",
    "      b    (ndarray (j, )) : bias vector, j units  \n",
    "    Returns\n",
    "      a_out (ndarray (j,))  : j units|\n",
    "    \"\"\"\n",
    "    units = W.shape[1]\n",
    "    a_out = np.zeros(units)\n",
    "    for j in range(units):               \n",
    "        w = W[:,j]                                    \n",
    "        z = np.dot(w, a_in) + b[j]         \n",
    "        a_out[j] = g(z)               \n",
    "    return(a_out)"
   ]
  },
  {
   "cell_type": "code",
   "execution_count": 5,
   "id": "c65ea04a",
   "metadata": {},
   "outputs": [],
   "source": [
    "def my_sequential(x, W1, b1, W2, b2):\n",
    "    a1 = my_dense(x,  W1, b1)\n",
    "    a2 = my_dense(a1, W2, b2)\n",
    "    return(a2)"
   ]
  },
  {
   "cell_type": "code",
   "execution_count": 6,
   "id": "ddd7cb56",
   "metadata": {},
   "outputs": [],
   "source": [
    "g = sigmoid"
   ]
  },
  {
   "cell_type": "code",
   "execution_count": 2,
   "id": "e2cd3dbf",
   "metadata": {},
   "outputs": [],
   "source": [
    "W1_tmp = np.array( [[-8.93,  0.29, 12.9 ], [-0.1,  -7.32, 10.81]] )\n",
    "b1_tmp = np.array( [-9.82, -9.28,  0.96] )\n",
    "W2_tmp = np.array( [[-31.18], [-27.59], [-32.56]] )\n",
    "b2_tmp = np.array( [15.41] )"
   ]
  },
  {
   "cell_type": "code",
   "execution_count": 8,
   "id": "75541630",
   "metadata": {},
   "outputs": [],
   "source": [
    "def my_predict(X, W1, b1, W2, b2):\n",
    "    m = X.shape[0]\n",
    "    p = np.zeros((m,1))\n",
    "    for i in range(m):\n",
    "        p[i,0] = my_sequential(X[i], W1, b1, W2, b2)\n",
    "    return(p)"
   ]
  },
  {
   "cell_type": "code",
   "execution_count": 5,
   "id": "288a205c",
   "metadata": {},
   "outputs": [],
   "source": [
    "X_tst = np.array([\n",
    "    [200,13.9],  # postive example\n",
    "    [200,17]])   # negative example\n",
    "\n",
    "\n",
    "\n"
   ]
  },
  {
   "cell_type": "code",
   "execution_count": null,
   "id": "8f1932a5",
   "metadata": {},
   "outputs": [],
   "source": [
    "predictions = my_predict(X_tstn, W1_tmp, b1_tmp, W2_tmp, b2_tmp)"
   ]
  },
  {
   "cell_type": "code",
   "execution_count": 10,
   "id": "7f44847b",
   "metadata": {},
   "outputs": [
    {
     "data": {
      "text/plain": [
       "array([[9.70292454e-01],\n",
       "       [3.28294082e-08]])"
      ]
     },
     "execution_count": 10,
     "metadata": {},
     "output_type": "execute_result"
    }
   ],
   "source": [
    "predictions\n",
    "array([[9.70292454e-01],\n",
    "       [3.28294082e-08]])"
   ]
  },
  {
   "cell_type": "code",
   "execution_count": 11,
   "id": "d335560e",
   "metadata": {},
   "outputs": [
    {
     "name": "stdout",
     "output_type": "stream",
     "text": [
      "decisions = \n",
      "[[1.]\n",
      " [0.]]\n"
     ]
    }
   ],
   "source": [
    "yhat = np.zeros_like(predictions)\n",
    "for i in range(len(predictions)):\n",
    "    if predictions[i] >= 0.5:\n",
    "        yhat[i] = 1\n",
    "    else:\n",
    "        yhat[i] = 0\n",
    "print(f\"decisions = \\n{yhat}\")"
   ]
  },
  {
   "cell_type": "code",
   "execution_count": 12,
   "id": "d94a1967",
   "metadata": {},
   "outputs": [
    {
     "name": "stdout",
     "output_type": "stream",
     "text": [
      "decisions = \n",
      "[[1]\n",
      " [0]]\n"
     ]
    }
   ],
   "source": [
    "yhat = (predictions >= 0.5).astype(int)\n",
    "print(f\"decisions = \\n{yhat}\")"
   ]
  },
  {
   "cell_type": "code",
   "execution_count": 3,
   "id": "86780299",
   "metadata": {},
   "outputs": [],
   "source": [
    "modeltest = MySequencial([\n",
    "    DenseLayer(2, activation=\"linear\", layerName=\"input\"), \n",
    "    DenseLayer(3, activation='sigmoid', W=W1_tmp, b=b1_tmp, layerName=\"layer 1\"),\n",
    "    DenseLayer(1, activation='sigmoid', W=W2_tmp, b=b2_tmp, layerName=\"layer 2\")\n",
    "])\n"
   ]
  },
  {
   "cell_type": "code",
   "execution_count": null,
   "id": "2617e556",
   "metadata": {},
   "outputs": [],
   "source": []
  },
  {
   "cell_type": "code",
   "execution_count": 15,
   "id": "e07b1684",
   "metadata": {},
   "outputs": [
    {
     "name": "stdout",
     "output_type": "stream",
     "text": [
      "----------- Layer 1 -----------\n",
      "Layer Name: input\n",
      "Shape W: (2, 2)\n",
      "W: [[1. 0.]\n",
      " [0. 1.]]\n",
      "Shape b: (2,)\n",
      "b: [0. 0.]\n",
      "activation: <function linear at 0x7fbac2267400>\n",
      "weights_initializer: <function heUniformWI at 0x7fbac2267b50> \n",
      "\n",
      "----------- Layer 2 -----------\n",
      "Layer Name: Dense\n",
      "Shape W: (2, 3)\n",
      "W: [[-8.93  0.29 12.9 ]\n",
      " [-0.1  -7.32 10.81]]\n",
      "Shape b: (3,)\n",
      "b: [-9.82 -9.28  0.96]\n",
      "activation: <function sigmoid at 0x7fbac22672e0>\n",
      "weights_initializer: <function heUniformWI at 0x7fbac2267b50> \n",
      "\n",
      "----------- Layer 3 -----------\n",
      "Layer Name: Dense\n",
      "Shape W: (3, 1)\n",
      "W: [[-31.18]\n",
      " [-27.59]\n",
      " [-32.56]]\n",
      "Shape b: (1,)\n",
      "b: [15.41]\n",
      "activation: <function sigmoid at 0x7fbac22672e0>\n",
      "weights_initializer: <function heUniformWI at 0x7fbac2267b50> \n",
      "\n"
     ]
    }
   ],
   "source": [
    "modeltest.summary()"
   ]
  },
  {
   "cell_type": "code",
   "execution_count": 76,
   "id": "4669f131",
   "metadata": {},
   "outputs": [],
   "source": [
    "z = [0.3, 0.6, 0.7]"
   ]
  },
  {
   "cell_type": "code",
   "execution_count": 77,
   "id": "b74062fd",
   "metadata": {},
   "outputs": [
    {
     "data": {
      "text/plain": [
       "array([0.26030255, 0.35137169, 0.38832577])"
      ]
     },
     "execution_count": 77,
     "metadata": {},
     "output_type": "execute_result"
    }
   ],
   "source": [
    "softmax(z)"
   ]
  },
  {
   "cell_type": "code",
   "execution_count": 78,
   "id": "9a71ded3",
   "metadata": {},
   "outputs": [],
   "source": [
    "def softmax_derivative(z):\n",
    "    s = softmax(z)\n",
    "    return s * (1 - s)"
   ]
  },
  {
   "cell_type": "code",
   "execution_count": 79,
   "id": "12eacfff",
   "metadata": {},
   "outputs": [
    {
     "data": {
      "text/plain": [
       "array([0.19254513, 0.22790962, 0.23752887])"
      ]
     },
     "execution_count": 79,
     "metadata": {},
     "output_type": "execute_result"
    }
   ],
   "source": [
    "softmax_derivative(z)"
   ]
  },
  {
   "cell_type": "code",
   "execution_count": 84,
   "id": "891bf24c",
   "metadata": {},
   "outputs": [
    {
     "data": {
      "text/plain": [
       "array([0.26030255, 0.35137169, 0.38832577])"
      ]
     },
     "execution_count": 84,
     "metadata": {},
     "output_type": "execute_result"
    }
   ],
   "source": [
    "s = softmax(z)\n",
    "s"
   ]
  },
  {
   "cell_type": "code",
   "execution_count": 82,
   "id": "74cc7dc0",
   "metadata": {},
   "outputs": [
    {
     "data": {
      "text/plain": [
       "array([0.73969745, 0.64862831, 0.61167423])"
      ]
     },
     "execution_count": 82,
     "metadata": {},
     "output_type": "execute_result"
    }
   ],
   "source": [
    "(1 - s)"
   ]
  },
  {
   "cell_type": "code",
   "execution_count": 86,
   "id": "4a143ac5",
   "metadata": {},
   "outputs": [
    {
     "data": {
      "text/plain": [
       "0.2279096254665439"
      ]
     },
     "execution_count": 86,
     "metadata": {},
     "output_type": "execute_result"
    }
   ],
   "source": [
    "0.35137169 * 0.64862831"
   ]
  },
  {
   "cell_type": "code",
   "execution_count": 9,
   "id": "c80c424c",
   "metadata": {},
   "outputs": [
    {
     "name": "stdout",
     "output_type": "stream",
     "text": [
      "[1. 0. 0. 0. 0. 0. 0. 0. 0. 0.]\n",
      "[0. 0. 1. 0. 0. 0. 0. 0. 0. 0.]\n"
     ]
    }
   ],
   "source": [
    "# 7 sur un truc de 10\n",
    "y = 0\n",
    "expected = np.zeros(10)\n",
    "expected[y] = 1\n",
    "print(expected)\n",
    "\n",
    "y = 2\n",
    "np.zeros(10)[y]\n",
    "expected[y] = 1\n",
    "print(expected)\n",
    "\n"
   ]
  },
  {
   "cell_type": "code",
   "execution_count": 20,
   "id": "468f5a53",
   "metadata": {},
   "outputs": [],
   "source": [
    "y = [1,0,1]"
   ]
  },
  {
   "cell_type": "code",
   "execution_count": 21,
   "id": "8cc613c3",
   "metadata": {},
   "outputs": [
    {
     "name": "stdout",
     "output_type": "stream",
     "text": [
      "expected [[0. 1.]\n",
      " [1. 0.]\n",
      " [0. 1.]]\n"
     ]
    }
   ],
   "source": [
    "expected = np.zeros((3,2))\n",
    "for i in range(len(y)):\n",
    "    expected[i][y[i]] = 1\n",
    "print(\"expected\", expected)"
   ]
  },
  {
   "cell_type": "code",
   "execution_count": 26,
   "id": "59c86373",
   "metadata": {},
   "outputs": [],
   "source": [
    "out = modeltest.predict(X_tstn)"
   ]
  },
  {
   "cell_type": "code",
   "execution_count": 24,
   "id": "e3558124",
   "metadata": {},
   "outputs": [
    {
     "data": {
      "text/plain": [
       "array([[ 0.30809644, -0.30809644],\n",
       "       [-0.56338921,  0.56338921],\n",
       "       [ 0.43403628, -0.43403628]])"
      ]
     },
     "execution_count": 24,
     "metadata": {},
     "output_type": "execute_result"
    }
   ],
   "source": [
    "modeltest.predict(X_tstn) - expected"
   ]
  },
  {
   "cell_type": "code",
   "execution_count": 25,
   "id": "a63b4706",
   "metadata": {},
   "outputs": [],
   "source": [
    "def softmax_deriv(z):\n",
    "    s = softmax(z)\n",
    "    return s * (1 - s)"
   ]
  },
  {
   "cell_type": "code",
   "execution_count": 28,
   "id": "8647c897",
   "metadata": {},
   "outputs": [
    {
     "data": {
      "text/plain": [
       "array([[0.21224131, 0.23100526],\n",
       "       [0.22677572, 0.21705782],\n",
       "       [0.22650251, 0.21735518]])"
      ]
     },
     "execution_count": 28,
     "metadata": {},
     "output_type": "execute_result"
    }
   ],
   "source": [
    "softmax_deriv(out)"
   ]
  },
  {
   "cell_type": "code",
   "execution_count": 29,
   "id": "0dd4ea70",
   "metadata": {},
   "outputs": [
    {
     "data": {
      "text/plain": [
       "[array([0.24101467, 0.24101467]),\n",
       " array([0.24899814, 0.24899814]),\n",
       " array([0.24891534, 0.24891534])]"
      ]
     },
     "execution_count": 29,
     "metadata": {},
     "output_type": "execute_result"
    }
   ],
   "source": [
    "[softmax_deriv(x) for x in out]"
   ]
  },
  {
   "cell_type": "code",
   "execution_count": 30,
   "id": "0a9437ea",
   "metadata": {},
   "outputs": [],
   "source": [
    "diffs = out - expected\n",
    "errors = [diff * softmax_deriv(out_) for diff, out_ in zip(diffs, out)]"
   ]
  },
  {
   "cell_type": "code",
   "execution_count": 31,
   "id": "e0175b38",
   "metadata": {},
   "outputs": [
    {
     "data": {
      "text/plain": [
       "[array([ 0.07425576, -0.07425576]),\n",
       " array([-0.14028286,  0.14028286]),\n",
       " array([ 0.10803829, -0.10803829])]"
      ]
     },
     "execution_count": 31,
     "metadata": {},
     "output_type": "execute_result"
    }
   ],
   "source": [
    "errors"
   ]
  },
  {
   "cell_type": "code",
   "execution_count": 32,
   "id": "faf1ba31",
   "metadata": {},
   "outputs": [
    {
     "data": {
      "text/plain": [
       "array([[ 0.30809644, -0.30809644],\n",
       "       [-0.56338921,  0.56338921],\n",
       "       [ 0.43403628, -0.43403628]])"
      ]
     },
     "execution_count": 32,
     "metadata": {},
     "output_type": "execute_result"
    }
   ],
   "source": [
    "diffs"
   ]
  },
  {
   "cell_type": "code",
   "execution_count": 33,
   "id": "64b3938b",
   "metadata": {},
   "outputs": [
    {
     "data": {
      "text/plain": [
       "0.0742557618147748"
      ]
     },
     "execution_count": 33,
     "metadata": {},
     "output_type": "execute_result"
    }
   ],
   "source": [
    "0.30809644 * 0.24101467"
   ]
  },
  {
   "cell_type": "code",
   "execution_count": null,
   "id": "e3b55021",
   "metadata": {},
   "outputs": [],
   "source": []
  }
 ],
 "metadata": {
  "kernelspec": {
   "display_name": "Python 3 (ipykernel)",
   "language": "python",
   "name": "python3"
  },
  "language_info": {
   "codemirror_mode": {
    "name": "ipython",
    "version": 3
   },
   "file_extension": ".py",
   "mimetype": "text/x-python",
   "name": "python",
   "nbconvert_exporter": "python",
   "pygments_lexer": "ipython3",
   "version": "3.10.13"
  }
 },
 "nbformat": 4,
 "nbformat_minor": 5
}
