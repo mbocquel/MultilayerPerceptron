{
 "cells": [
  {
   "cell_type": "markdown",
   "id": "8e1bff5e",
   "metadata": {},
   "source": [
    "# Indicators to evaluate the model\n",
    "\n",
    "We need to evaluate the models on the validation set (data that where not used to train our models). \n",
    "\n",
    "### Loss function\n",
    "I implemented the binaryCrossentropyLoss function. \n",
    "\n",
    "### Accuracy\n",
    "The accuracy is defined as : \n",
    "\n",
    "Number of correct predictions / Number of predictions \n",
    "\n",
    "### Precision and Recall\n",
    "\n",
    "<img src=\"img/videoframe_546767.png\" />"
   ]
  },
  {
   "cell_type": "markdown",
   "id": "522259fb",
   "metadata": {},
   "source": []
  }
 ],
 "metadata": {
  "kernelspec": {
   "display_name": "Python 3 (ipykernel)",
   "language": "python",
   "name": "python3"
  },
  "language_info": {
   "codemirror_mode": {
    "name": "ipython",
    "version": 3
   },
   "file_extension": ".py",
   "mimetype": "text/x-python",
   "name": "python",
   "nbconvert_exporter": "python",
   "pygments_lexer": "ipython3",
   "version": "3.10.13"
  }
 },
 "nbformat": 4,
 "nbformat_minor": 5
}
